{
  "nbformat": 4,
  "nbformat_minor": 0,
  "metadata": {
    "colab": {
      "provenance": [],
      "authorship_tag": "ABX9TyN7sKLJzWuDrYt6QnRDJI7N"
    },
    "kernelspec": {
      "name": "python3",
      "display_name": "Python 3"
    },
    "language_info": {
      "name": "python"
    }
  },
  "cells": [
    {
      "cell_type": "markdown",
      "source": [
        "#**1D Pressure diffusion equation in porous media explicit method**\n",
        "\n",
        "\n",
        "  Python code that implements an explicit method for solving the diffusion equation in a porous medium, using a finite difference approach. This method can be used to predict the distribution of pressure within the porous medium over time.\n",
        "\n",
        "The diffusion equation is a mathematical model that describes how a property (such as pressure) changes over time and space. In this case, we are using the equation to predict the distribution of pressure within a porous medium over time.\n",
        "\n",
        "The explicit method is a numerical method for solving differential equations. It involves discretizing the spatial domain (dividing it into a series of grid points) and iteratively updating the solution at each time step based on the values at the previous time step.\n",
        "\n",
        "In this particular implementation, we use a finite difference approach to approximate the spatial derivatives in the diffusion equation. This involves calculating the difference between the values of the pressure at adjacent grid points.\n",
        "\n"
      ],
      "metadata": {
        "id": "SGaD9IBs-jRt"
      }
    },
    {
      "cell_type": "code",
      "source": [
        "import numpy as np\n",
        "import matplotlib.pyplot as plt\n",
        "\n",
        "\n",
        "L = 0.05              # length \n",
        "n = 10                # number of boxes\n",
        "dx=L/n                # step\n",
        "alpha = 0.001         # K/µφ0cr\n",
        "\n",
        "#Initial condition\n",
        "P0 = 0 \n",
        "\n",
        "t_final = 35         # Closure Stress  Final \n",
        "dt = 0.01            # Closure Stress step\n",
        "\n",
        "#Boundary conditions\n",
        "P1S = 35             # Pressure in\n",
        "P2S = 18             # Pressure out\n",
        "\n",
        "\n",
        "\n",
        "\n",
        "dPdt=np.empty(n)\n",
        "\n",
        "\n",
        "x= np.linspace(dx/2,L-dx/2,n)\n",
        "t= np.arange(0,t_final,dt)\n",
        "\n",
        "P=np.ones(n)*P0\n",
        "v=np.linspace(0,350,70)\n",
        "\n",
        "for j in range(1,len(t)):\n",
        "    plt.clf()\n",
        "\n",
        "    for i in range(1,n-1):\n",
        "        dPdt[i] = alpha*((-(P[i]-P[(i-1)])/dx**2)+(P[i+1]-P[i])/dx**2)\n",
        "    dPdt[0] = alpha*((-(P[0]-P1S)/dx**2)+(P[1]-P[0])/dx**2)\n",
        "    dPdt[n-1] = alpha*((-(P[n-1]-P[n-2])/dx**2)+(P2S-P[n-1])/dx**2)\n",
        "\n",
        "    P=P+dPdt*dt\n",
        "    \n",
        "    plt.figure(1)\n",
        "    plt.xlabel('X section of the cylinder (cm) ') \n",
        "    plt.ylabel('Pressure (psi) ')     \n",
        "    plt.title('Pressure Diffusion')                \n",
        "    plt.plot(x,P)\n",
        "    plt.axis([0,L,0,50])\n",
        "    plt.show()\n",
        "    plt.pause(0.1)\n",
        "    "
      ],
      "metadata": {
        "id": "1sFMsWWv-8Zd"
      },
      "execution_count": null,
      "outputs": []
    }
  ]
}