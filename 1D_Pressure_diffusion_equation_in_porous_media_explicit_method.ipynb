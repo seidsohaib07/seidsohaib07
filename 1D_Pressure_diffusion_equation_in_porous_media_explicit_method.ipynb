{
  "nbformat": 4,
  "nbformat_minor": 0,
  "metadata": {
    "colab": {
      "provenance": [],
      "authorship_tag": "ABX9TyPOUt3Lof2i9BJomTRE+jmg",
      "include_colab_link": true
    },
    "kernelspec": {
      "name": "python3",
      "display_name": "Python 3"
    },
    "language_info": {
      "name": "python"
    }
  },
  "cells": [
    {
      "cell_type": "markdown",
      "metadata": {
        "id": "view-in-github",
        "colab_type": "text"
      },
      "source": [
        "<a href=\"https://colab.research.google.com/github/seidsohaib07/seidsohaib07/blob/main/1D_Pressure_diffusion_equation_in_porous_media_explicit_method.ipynb\" target=\"_parent\"><img src=\"https://colab.research.google.com/assets/colab-badge.svg\" alt=\"Open In Colab\"/></a>"
      ]
    },
    {
      "cell_type": "markdown",
      "source": [
        "# **Pressure Diffusion in Porous Media**\n",
        "\n",
        "\n",
        "\n"
      ],
      "metadata": {
        "id": "kL3kWEERS64S"
      }
    },
    {
      "cell_type": "markdown",
      "source": [
        " \n",
        "\n",
        "\n",
        "Pressure diffusion in porous media refers to the process by which pressure is transferred through a porous material, such as rock or soil. Porous media are materials that have interconnected voids, or pores, that allow fluids to flow through them. The flow of fluid through porous media is governed by the laws of physics and can be described by partial differential equations (PDEs) such as the diffusion equation.\n",
        "\n",
        "In the case of pressure diffusion, the PDE that describes the process is the pressure diffusion equation. This equation describes how pressure changes in the porous media as a function of time and position. The equation takes into account factors such as the permeability of the porous material, the viscosity of the fluid, and the boundary conditions (e.g. the pressure at the inlet and outlet of the porous material).\n",
        "\n",
        "The pressure diffusion equation is a important equation in many fields like Petroleum Engineering, Hydrology and environmental engineering. In petroleum engineering, it is used to predict the flow of oil and gas through porous rock formations, which is important for the design and optimization of oil and gas wells. In hydrology, it is used to model the flow of water through porous soil, which is important for understanding the water balance of watersheds and for managing groundwater resources. In environmental engineering, it is used to model the transport of pollutants through soil, which is important for understanding the fate and transport of pollutants in the environment.\n",
        "\n",
        "\n",
        "\n"
      ],
      "metadata": {
        "id": "SGaD9IBs-jRt"
      }
    },
    {
      "cell_type": "markdown",
      "source": [
        "#Explicit Method"
      ],
      "metadata": {
        "id": "zsYMxnMESreV"
      }
    },
    {
      "cell_type": "markdown",
      "source": [
        "Python code that implements an explicit method for solving the diffusion equation in a porous medium, using a finite difference approach. This method can be used to predict the distribution of pressure within the porous medium over time.\n",
        "\n",
        "The diffusion equation is a mathematical model that describes how a property (such as pressure) changes over time and space. In this case, we are using the equation to predict the distribution of pressure within a porous medium over time.\n",
        "\n",
        "The explicit method is a numerical method for solving differential equations. It involves discretizing the spatial domain (dividing it into a series of grid points) and iteratively updating the solution at each time step based on the values at the previous time step.\n",
        "\n",
        "In this particular implementation, we use a finite difference approach to approximate the spatial derivatives in the diffusion equation. This involves calculating the difference between the values of the pressure at adjacent grid points."
      ],
      "metadata": {
        "id": "TJ7LTxuGSvOU"
      }
    },
    {
      "cell_type": "code",
      "source": [
        "import numpy as np\n",
        "import matplotlib.pyplot as plt\n",
        "\n",
        "\n",
        "L = 0.05              # length \n",
        "n = 10                # number of boxes\n",
        "dx=L/n                # step\n",
        "alpha = 0.001         # K/µφ0cr\n",
        "\n",
        "#Initial condition\n",
        "P0 = 0 \n",
        "\n",
        "t_final = 35         # Closure Stress  Final \n",
        "dt = 0.01            # Closure Stress step\n",
        "\n",
        "#Boundary conditions\n",
        "P1S = 35             # Pressure in\n",
        "P2S = 18             # Pressure out\n",
        "\n",
        "\n",
        "\n",
        "\n",
        "dPdt=np.empty(n)\n",
        "\n",
        "\n",
        "x= np.linspace(dx/2,L-dx/2,n)\n",
        "t= np.arange(0,t_final,dt)\n",
        "\n",
        "P=np.ones(n)*P0\n",
        "v=np.linspace(0,350,70)\n",
        "\n",
        "for j in range(1,len(t)):\n",
        "    plt.clf()\n",
        "\n",
        "    for i in range(1,n-1):\n",
        "        dPdt[i] = alpha*((-(P[i]-P[(i-1)])/dx**2)+(P[i+1]-P[i])/dx**2)\n",
        "    dPdt[0] = alpha*((-(P[0]-P1S)/dx**2)+(P[1]-P[0])/dx**2)\n",
        "    dPdt[n-1] = alpha*((-(P[n-1]-P[n-2])/dx**2)+(P2S-P[n-1])/dx**2)\n",
        "\n",
        "    P=P+dPdt*dt\n",
        "    \n",
        "    plt.figure(1)\n",
        "    plt.xlabel('X section of the cylinder (cm) ') \n",
        "    plt.ylabel('Pressure (psi) ')     \n",
        "    plt.title('Pressure Diffusion')                \n",
        "    plt.plot(x,P)\n",
        "    plt.axis([0,L,0,50])\n",
        "    plt.show()\n",
        "    plt.pause(0.1)\n",
        "    "
      ],
      "metadata": {
        "id": "1sFMsWWv-8Zd"
      },
      "execution_count": null,
      "outputs": []
    },
    {
      "cell_type": "markdown",
      "source": [
        "# Implicite Method\n"
      ],
      "metadata": {
        "id": "2N6_gVRpQDwn"
      }
    },
    {
      "cell_type": "markdown",
      "source": [
        "The explicite method could be sometimes llimited because of its stability issue.The stability of a numerical method refers to its ability to produce accurate and consistent results over time. In the context of solving the 1D pressure diffusion equation, explicit methods such as the Forward Euler method have a stability constraint known as the Courant-Friedrichs-Lewy (CFL) condition. This condition states that the time step used in the simulation must be small enough in relation to the spatial step in order for the solution to remain stable. This can be a significant limitation in practice, as it can make the simulation very computationally expensive.\n",
        "\n",
        "On the other hand, implicit methods such as the backward Euler method and the Crank-Nicolson method do not have the same stability constraint. This means that they can take larger time steps, which can greatly reduce the computational cost of the simulation. However, implicit methods typically require more complex and computationally intensive algorithms to solve, which can offset the computational savings from the larger time steps.\n",
        "\n",
        "\n",
        "In the explicit method, the pressure is calculated directly using the current values of the pressure at each point. However, in an implicit method, the pressure at each point in the next time step is calculated based on the values of the pressure at all points in the next time step.\n",
        "\n",
        "Here is an example of how the code could be modified to use the backward Euler method, which is an implicit method:"
      ],
      "metadata": {
        "id": "5V6F3qpJIGkG"
      }
    },
    {
      "cell_type": "code",
      "source": [
        "import numpy as np\n",
        "import matplotlib.pyplot as plt\n",
        "from scipy.sparse import diags\n",
        "from scipy.sparse.linalg import spsolve\n",
        "\n",
        "L = 0.05              # length \n",
        "n = 10                # number of boxes\n",
        "dx=L/n                # step\n",
        "alpha = 0.001         # K/µφ0cr\n",
        "\n",
        "#Initial condition\n",
        "P0 = 0 \n",
        "\n",
        "t_final = 35         # Closure Stress  Final \n",
        "dt = 0.01            # Closure Stress step\n",
        "\n",
        "#Boundary conditions\n",
        "P1S = 35             # Pressure in\n",
        "P2S = 18             # Pressure out\n",
        "\n",
        "\n",
        "x= np.linspace(dx/2,L-dx/2,n)\n",
        "t= np.arange(0,t_final,dt)\n",
        "\n",
        "P=np.ones(n)*P0\n",
        "\n",
        "A = diags([1, -2, 1], [-1, 0, 1], shape=(n, n)).toarray()\n",
        "A[0,0] = -1\n",
        "A[-1,-1] = -1\n",
        "\n",
        "for j in range(1,len(t)):\n",
        "    plt.clf()\n",
        "    RHS = P + dt * alpha * A.dot(P)\n",
        "    RHS[0] += dt * alpha * P1S / dx**2\n",
        "    RHS[-1] += dt * alpha * P2S / dx**2\n",
        "    P = spsolve(np.eye(n) - dt * alpha * A, RHS)\n",
        "    \n",
        "    plt.figure(1)\n",
        "    plt.xlabel('X section of the cylinder (cm) ') \n",
        "    plt.ylabel('Pressure (psi) ')     \n",
        "    plt.title('Pressure Diffusion')                \n",
        "    plt.plot(x,P)\n",
        "    plt.axis([0,L,0,50])\n",
        "    plt.show()\n",
        "    plt.pause(0.1)"
      ],
      "metadata": {
        "id": "QORvHj9SJ0Sv"
      },
      "execution_count": null,
      "outputs": []
    },
    {
      "cell_type": "markdown",
      "source": [
        "This code uses the sparse linear algebra library scipy to solve the linear system of equations that defines the backward Euler method. It is important to note that the above code uses a simple linear system solver.\n",
        "\n"
      ],
      "metadata": {
        "id": "mrNdh4Y6J2fL"
      }
    },
    {
      "cell_type": "markdown",
      "source": [
        "#Crank Nichlson Method\n"
      ],
      "metadata": {
        "id": "FPzBc1LIOaZI"
      }
    },
    {
      "cell_type": "markdown",
      "source": [
        "The Crank-Nicolson method is a finite difference method used to solve partial differential equations (PDEs) in time and space. It is a popular method for solving PDEs that model physical systems because it is relatively simple to implement and it has good stability and accuracy properties.\n",
        "\n",
        "The Crank-Nicolson method is a combination of the explicit method and the implicit method, it is a time-stepping method that advances the solution of a PDE by a small time step. At each time step, the method uses a weighted average of the spatial derivative at the current and the next time step. This means that it uses the information from both the current time step and the next time step to calculate the solution at the next time step, which makes it less sensitive to the choice of time step size compared to the explicit method.\n",
        "\n",
        "The method is named after John Crank and Phyllis Nicolson, who introduced the method in the 1950s for solving heat conduction problems. Since then, it has been applied to a wide range of PDEs, including the diffusion equation, the wave equation, and the Schrödinger equation.\n",
        "here is an example of how the code from above could be modified to use the Crank-Nicolson method:"
      ],
      "metadata": {
        "id": "v4BDdvxzOTdm"
      }
    },
    {
      "cell_type": "code",
      "source": [
        "import numpy as np\n",
        "import matplotlib.pyplot as plt\n",
        "from scipy.sparse import diags\n",
        "from scipy.sparse.linalg import spsolve\n",
        "\n",
        "L = 0.05              # length \n",
        "n = 10                # number of boxes\n",
        "dx=L/n                # step\n",
        "alpha = 0.001         # K/µφ0cr\n",
        "\n",
        "#Initial condition\n",
        "P0 = 0 \n",
        "\n",
        "t_final = 35         # Closure Stress  Final \n",
        "dt = 0.01            # Closure Stress step\n",
        "\n",
        "#Boundary conditions\n",
        "P1S = 35             # Pressure in\n",
        "P2S = 18             # Pressure out\n",
        "\n",
        "\n",
        "x= np.linspace(dx/2,L-dx/2,n)\n",
        "t= np.arange(0,t_final,dt)\n",
        "\n",
        "P=np.ones(n)*P0\n",
        "\n",
        "A = diags([1, -2, 1], [-1, 0, 1], shape=(n, n)).toarray()\n",
        "A[0,0] = -1\n",
        "A[-1,-1] = -1\n",
        "\n",
        "for j in range(1,len(t)):\n",
        "    plt.clf()\n",
        "    RHS = P + 0.5*dt * alpha * A.dot(P)\n",
        "    RHS[0] += 0.5*dt * alpha * P1S / dx**2\n",
        "    RHS[-1] += 0.5*dt * alpha * P2S / dx**2\n",
        "    P = spsolve(np.eye(n) + 0.5*dt * alpha * A, RHS)\n",
        "    \n",
        "    plt.figure(1)\n",
        "    plt.xlabel('X section of the cylinder (cm) ') \n",
        "    plt.ylabel('Pressure (psi) ')     \n",
        "    plt.title('Pressure Diffusion')                \n",
        "    plt.plot(x,P)\n",
        "    plt.axis([0,L,0,50])\n",
        "    plt.show()\n",
        "    plt.pause(0.1)\n"
      ],
      "metadata": {
        "id": "eK4mjMSQQOSR"
      },
      "execution_count": null,
      "outputs": []
    },
    {
      "cell_type": "markdown",
      "source": [
        "In your Jupyter notebook, you have explained and provided Python code examples for the use of explicit, implicit, and Crank-Nicolson methods in solving the pressure diffusion equation.\n",
        "\n",
        "The explicit method, such as Forward Euler, is simple to implement but has a stability constraint known as the Courant-Friedrichs-Lewy (CFL) condition, which limits the size of the time step that can be used. This can make the simulation computationally expensive.\n",
        "\n",
        "On the other hand, the implicit method such as the backward Euler method and the Crank-Nicolson method do not have the same stability constraint. They can take larger time steps, which can greatly reduce the computational cost of the simulation. However, implicit methods typically require more complex and computationally intensive algorithms to solve, which can offset the computational savings from the larger time steps.\n",
        "\n",
        "The Crank-Nicolson method is a popular method for solving PDEs that model physical systems because it is relatively simple to implement and it has good stability and accuracy properties. It uses a weighted average of the spatial derivative at the current and the next time step to advance the solution of a PDE by a small time step.\n",
        "\n",
        "Overall, the choice of method to use depends on the specific problem, computational resources available, and the desired level of accuracy. All the methods have advantages and limitations and the best one to use should be chosen based on the specific problem at hand."
      ],
      "metadata": {
        "id": "ln63ZyVyT2_K"
      }
    }
  ]
}